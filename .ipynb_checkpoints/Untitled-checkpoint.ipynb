{
 "cells": [
  {
   "cell_type": "code",
   "execution_count": 2,
   "id": "7a1b1b09-fddf-4417-b89f-b59addbd567e",
   "metadata": {},
   "outputs": [],
   "source": [
    "import pandas as pd"
   ]
  },
  {
   "cell_type": "code",
   "execution_count": 4,
   "id": "d704207f-99a5-4441-8e53-2566cdaa5240",
   "metadata": {},
   "outputs": [],
   "source": [
    "# Load the CSV file\n",
    "file_path = 'digital_marketing_campaign_dataset.csv'\n",
    "data = pd.read_csv(file_path)"
   ]
  },
  {
   "cell_type": "code",
   "execution_count": 8,
   "id": "3b6a31fa-2555-4d67-8e7f-e2765e6a99b6",
   "metadata": {},
   "outputs": [],
   "source": [
    "# Select only numeric columns\n",
    "numeric_data = data.select_dtypes(include=['number'])"
   ]
  },
  {
   "cell_type": "code",
   "execution_count": 10,
   "id": "cc815075-48cd-4ada-b123-565af0078eb5",
   "metadata": {},
   "outputs": [],
   "source": [
    "# Generate the correlation matrix for numeric columns\n",
    "correlation_matrix = numeric_data.corr()"
   ]
  },
  {
   "cell_type": "code",
   "execution_count": 14,
   "id": "2634630e-029b-4393-9a43-2dca2e8955e1",
   "metadata": {},
   "outputs": [
    {
     "name": "stdout",
     "output_type": "stream",
     "text": [
      "                   CustomerID       Age    Income   AdSpend  ClickThroughRate  \\\n",
      "CustomerID           1.000000 -0.003608  0.002310  0.015931          0.005078   \n",
      "Age                 -0.003608  1.000000  0.008731 -0.004607          0.011542   \n",
      "Income               0.002310  0.008731  1.000000  0.003668          0.008080   \n",
      "AdSpend              0.015931 -0.004607  0.003668  1.000000         -0.008296   \n",
      "ClickThroughRate     0.005078  0.011542  0.008080 -0.008296          1.000000   \n",
      "ConversionRate       0.010161  0.020027  0.017552 -0.020185         -0.008161   \n",
      "WebsiteVisits        0.000039 -0.002078 -0.002923  0.007265         -0.023148   \n",
      "PagesPerVisit        0.000158 -0.009280  0.003868 -0.009256          0.000088   \n",
      "TimeOnSite          -0.013746 -0.012998  0.019404 -0.004335         -0.008210   \n",
      "SocialShares        -0.011601 -0.009531 -0.006297 -0.021058         -0.013287   \n",
      "EmailOpens          -0.003488  0.015055 -0.001506  0.016514         -0.006076   \n",
      "EmailClicks         -0.003531  0.008820  0.008541  0.001021         -0.010825   \n",
      "PreviousPurchases   -0.012776 -0.007123 -0.011924  0.002378         -0.000387   \n",
      "LoyaltyPoints       -0.023488  0.014049 -0.007181  0.002045         -0.017314   \n",
      "Conversion          -0.180742  0.001606  0.013974  0.124672          0.120012   \n",
      "\n",
      "                   ConversionRate  WebsiteVisits  PagesPerVisit  TimeOnSite  \\\n",
      "CustomerID               0.010161       0.000039       0.000158   -0.013746   \n",
      "Age                      0.020027      -0.002078      -0.009280   -0.012998   \n",
      "Income                   0.017552      -0.002923       0.003868    0.019404   \n",
      "AdSpend                 -0.020185       0.007265      -0.009256   -0.004335   \n",
      "ClickThroughRate        -0.008161      -0.023148       0.000088   -0.008210   \n",
      "ConversionRate           1.000000      -0.012081       0.018789    0.008679   \n",
      "WebsiteVisits           -0.012081       1.000000      -0.011891   -0.022440   \n",
      "PagesPerVisit            0.018789      -0.011891       1.000000    0.016455   \n",
      "TimeOnSite               0.008679      -0.022440       0.016455    1.000000   \n",
      "SocialShares             0.008713       0.000328       0.007888    0.001869   \n",
      "EmailOpens               0.006449       0.005865       0.000503   -0.004932   \n",
      "EmailClicks              0.006716       0.003274      -0.000047    0.002099   \n",
      "PreviousPurchases       -0.023209       0.013739      -0.016285   -0.006494   \n",
      "LoyaltyPoints           -0.000498       0.003363      -0.012838   -0.010952   \n",
      "Conversion               0.093185       0.079339       0.102840    0.129609   \n",
      "\n",
      "                   SocialShares  EmailOpens  EmailClicks  PreviousPurchases  \\\n",
      "CustomerID            -0.011601   -0.003488    -0.003531          -0.012776   \n",
      "Age                   -0.009531    0.015055     0.008820          -0.007123   \n",
      "Income                -0.006297   -0.001506     0.008541          -0.011924   \n",
      "AdSpend               -0.021058    0.016514     0.001021           0.002378   \n",
      "ClickThroughRate      -0.013287   -0.006076    -0.010825          -0.000387   \n",
      "ConversionRate         0.008713    0.006449     0.006716          -0.023209   \n",
      "WebsiteVisits          0.000328    0.005865     0.003274           0.013739   \n",
      "PagesPerVisit          0.007888    0.000503    -0.000047          -0.016285   \n",
      "TimeOnSite             0.001869   -0.004932     0.002099          -0.006494   \n",
      "SocialShares           1.000000   -0.012028     0.003214          -0.012635   \n",
      "EmailOpens            -0.012028    1.000000     0.001410           0.001333   \n",
      "EmailClicks            0.003214    0.001410     1.000000           0.001284   \n",
      "PreviousPurchases     -0.012635    0.001333     0.001284           1.000000   \n",
      "LoyaltyPoints         -0.004575   -0.002839    -0.002837           0.011899   \n",
      "Conversion            -0.011449    0.124884     0.129521           0.111781   \n",
      "\n",
      "                   LoyaltyPoints  Conversion  \n",
      "CustomerID             -0.023488   -0.180742  \n",
      "Age                     0.014049    0.001606  \n",
      "Income                 -0.007181    0.013974  \n",
      "AdSpend                 0.002045    0.124672  \n",
      "ClickThroughRate       -0.017314    0.120012  \n",
      "ConversionRate         -0.000498    0.093185  \n",
      "WebsiteVisits           0.003363    0.079339  \n",
      "PagesPerVisit          -0.012838    0.102840  \n",
      "TimeOnSite             -0.010952    0.129609  \n",
      "SocialShares           -0.004575   -0.011449  \n",
      "EmailOpens             -0.002839    0.124884  \n",
      "EmailClicks            -0.002837    0.129521  \n",
      "PreviousPurchases       0.011899    0.111781  \n",
      "LoyaltyPoints           1.000000    0.095004  \n",
      "Conversion              0.095004    1.000000  \n"
     ]
    }
   ],
   "source": [
    "# Display the correlation matrix to the user\n",
    "print(correlation_matrix)"
   ]
  },
  {
   "cell_type": "code",
   "execution_count": null,
   "id": "ed3e040d-1d37-4bc6-a88d-e2358fa7e7f3",
   "metadata": {},
   "outputs": [],
   "source": []
  }
 ],
 "metadata": {
  "kernelspec": {
   "display_name": "Python 3 (ipykernel)",
   "language": "python",
   "name": "python3"
  },
  "language_info": {
   "codemirror_mode": {
    "name": "ipython",
    "version": 3
   },
   "file_extension": ".py",
   "mimetype": "text/x-python",
   "name": "python",
   "nbconvert_exporter": "python",
   "pygments_lexer": "ipython3",
   "version": "3.12.2"
  }
 },
 "nbformat": 4,
 "nbformat_minor": 5
}
